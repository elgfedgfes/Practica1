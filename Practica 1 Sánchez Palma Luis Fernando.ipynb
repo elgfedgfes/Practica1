{
 "cells": [
  {
   "cell_type": "markdown",
   "metadata": {},
   "source": [
    "# Práctica 1  Por Sánchez Palma Luis Fernando\n",
    "## Ecosistema de un Administrador de Bases de datos y creación de una API"
   ]
  },
  {
   "cell_type": "markdown",
   "metadata": {},
   "source": [
    "## Creación de una máquina virtual en Microsoft Azure\n",
    " Iniciamos con la creación de una cuenta en Microsoft Azure para la creación de una máquina virtual con las siguientes características:\n",
    " \n",
    "* **Public IP address:** enable\n",
    "* **Operating system:** Linux (ubuntu 18.04)\n",
    "* **Size:** Standard D2s v3 (2 vcpus, 8 GiB memory)\n",
    "<img src=\"https://doc-0k-a4-docs.googleusercontent.com/docs/securesc/reubdk6pp1r9mrbs71mjbb87o6qnt0qk/5iopeij5kkv8tp09r94vh8dn61nerk82/1569816000000/03576513770871805724/03576513770871805724/109yIE0e7EO8mnS_DXCXK9ZW6n6GkBJj6?e=download\" width= \"800\">"
   ]
  },
  {
   "cell_type": "markdown",
   "metadata": {},
   "source": [
    "### Iniciamos con la preparación del proyecto\n",
    "Por consola de serie instalamos **NodeJS, NPM de NodeJS**, el Generador de aplicaciones **Express**\n",
    " y **postgresSQl**, lo configuramos y aprendimos algunos comandos para poder iniciar el proyecto."
   ]
  },
  {
   "cell_type": "markdown",
   "metadata": {},
   "source": [
    "## Iniciando el proyecto\n",
    "\n",
    "Para la creación del proyecto creamos una nueva carpeta llamada proyectos, y otra llamada practica_01, en ella creamos el proyecto **Express** e instalamos sus dependencias.\n",
    "Iniciamos el servicio para corroborar que funcionaba.\n",
    "\n",
    "<img src=\"https://doc-14-a4-docs.googleusercontent.com/docs/securesc/reubdk6pp1r9mrbs71mjbb87o6qnt0qk/ctrufij7g10drr5et4ghcrlqobim4lb3/1569816000000/03576513770871805724/03576513770871805724/1IUJZYPV8xbgw6XyH2YuFJD6noeRolf9h?e=download\" width= \"500\">\n",
    "\n",
    "Después instalamos **pg-promise** y **bluebird**."
   ]
  },
  {
   "cell_type": "markdown",
   "metadata": {},
   "source": [
    "### En la raíz del proyecto creamos un archivo llamado *queries.js*\n",
    "Y al archivo lo configuramos de la siguente manera:\n",
    "<img src=\"https://doc-10-a4-docs.googleusercontent.com/docs/securesc/reubdk6pp1r9mrbs71mjbb87o6qnt0qk/v77hdnbhoi8l7bvss6oq064kp35gnibj/1569816000000/03576513770871805724/03576513770871805724/17xWQI1rBoYz26Rg5gL6mTFgzgyO52PCq?e=download\" width= \"800\">\n",
    "\n",
    "## Creamos nuestra base de datos:\n",
    "### En la raíz del proyecto creamos un archivo llamado *puppies.sql*\n",
    "Y al archivo lo configuramos de la siguente manera:\n",
    "<img src=\"https://doc-0c-a4-docs.googleusercontent.com/docs/securesc/reubdk6pp1r9mrbs71mjbb87o6qnt0qk/u4706mgggm2rcocbmsha0v5svomadm7r/1569816000000/03576513770871805724/03576513770871805724/12LukkMK-cyy32DPGWb9akJQp4HKunjYd?e=download\" width= \"800\">\n",
    "\n",
    "Corrimos SQL, aplicamos el esquema e insetamos una fila y checamos nuestra base de datos."
   ]
  },
  {
   "cell_type": "markdown",
   "metadata": {},
   "source": [
    "## Configuramos rutas\n",
    "Accedimos a la carpeta **routes** y editamos el archivo **index.js** agregandole lo siguiente:\n",
    "<img src=\"https://doc-14-a4-docs.googleusercontent.com/docs/securesc/reubdk6pp1r9mrbs71mjbb87o6qnt0qk/4oc9roqi31mmjaa4b4hapcoj7gocre5s/1569816000000/03576513770871805724/03576513770871805724/19ZRmqBJVeLMxj2iGvzIyrqCmgFAwXDHu?e=download\" width= \"800\">\n",
    "\n",
    "### Tambien actualizamos  el archivo *queries.js* donde le agregamos las funciones faltantes.\n",
    "<img src=\"https://doc-0s-a4-docs.googleusercontent.com/docs/securesc/reubdk6pp1r9mrbs71mjbb87o6qnt0qk/cvv9pm3kr51au08ej0qbi4kejv8kbb43/1569816000000/03576513770871805724/03576513770871805724/1A_mT0IalupxV0pAHbpacmjrAX0FLO4fT?e=download\" width= \"700\">"
   ]
  },
  {
   "cell_type": "markdown",
   "metadata": {},
   "source": [
    "Por último probamos nuestra API\n",
    "## Método GET\n",
    "<img src=\"https://doc-14-a4-docs.googleusercontent.com/docs/securesc/reubdk6pp1r9mrbs71mjbb87o6qnt0qk/24em6oevh3eo1jlo16aqi5g3q3hhssrf/1569816000000/03576513770871805724/03576513770871805724/1erUBeJ0Nz3GxY7WjfS5n-MHBQG25_Cqo?e=download\" width= \"700\">\n",
    "\n",
    "## Método GET SINGLE\n",
    "\n",
    "<img src=\"https://doc-14-a4-docs.googleusercontent.com/docs/securesc/reubdk6pp1r9mrbs71mjbb87o6qnt0qk/fqpjqu4r7f6l7e8lv1bksr42qb78d2dh/1569816000000/03576513770871805724/03576513770871805724/1ohqoYMHKYbbwg9-FEcwLf2Nri_YT0AnX?e=download\" width= \"700\">"
   ]
  },
  {
   "cell_type": "code",
   "execution_count": null,
   "metadata": {},
   "outputs": [],
   "source": []
  }
 ],
 "metadata": {
  "kernelspec": {
   "display_name": "Python 3",
   "language": "python",
   "name": "python3"
  },
  "language_info": {
   "codemirror_mode": {
    "name": "ipython",
    "version": 3
   },
   "file_extension": ".py",
   "mimetype": "text/x-python",
   "name": "python",
   "nbconvert_exporter": "python",
   "pygments_lexer": "ipython3",
   "version": "3.7.3"
  }
 },
 "nbformat": 4,
 "nbformat_minor": 2
}
